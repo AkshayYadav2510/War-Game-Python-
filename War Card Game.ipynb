{
 "cells": [
  {
   "cell_type": "code",
   "execution_count": 1,
   "id": "e49b86d2",
   "metadata": {},
   "outputs": [],
   "source": [
    "#War Card Game"
   ]
  },
  {
   "cell_type": "code",
   "execution_count": 2,
   "id": "49bfca43",
   "metadata": {},
   "outputs": [],
   "source": [
    "#Game starts with a deck of cards divide equally among 2 computer players.\n",
    "#the each player draws a card from thier deck and the player with higher card wins.\n",
    "#and takes both the card to his deck. In case both the player draws same card the thats a tie \n",
    "#they will draw again and again the player with higher card takes all the cards to his deck.\n",
    "#at the end the player with no cards win."
   ]
  },
  {
   "cell_type": "code",
   "execution_count": 3,
   "id": "6a55cc39",
   "metadata": {},
   "outputs": [],
   "source": [
    "#to construct the game we start by \n",
    "#1.card class\n",
    "#2.deck class\n",
    "#3.player class\n",
    "#4.game logic"
   ]
  },
  {
   "cell_type": "code",
   "execution_count": 1,
   "id": "13d04130",
   "metadata": {},
   "outputs": [],
   "source": [
    "#card class and global variables\n",
    "import random\n",
    "#global variables\n",
    "suits = ('Hearts','Clubs','Spades','Diamonds') #tuple\n",
    "ranks = ('Two', 'Three', 'Four', 'Five', 'Six', 'Seven', 'Eight', 'Nine', 'Ten', 'Jack',\n",
    "          'Queen', 'King', 'Ace')#tuple\n",
    "values = {'Two':2, 'Three':3, 'Four':4, 'Five':5, 'Six':6, 'Seven':7, 'Eight':8, 'Nine':9, 'Ten':10, 'Jack':11,\n",
    "          'Queen':12, 'King':13, 'Ace':14 } #dictionary"
   ]
  },
  {
   "cell_type": "code",
   "execution_count": 2,
   "id": "651e8b61",
   "metadata": {},
   "outputs": [],
   "source": [
    "class Card():\n",
    "    \n",
    "    def __init__(self,suit,rank):\n",
    "        self.suit = suit\n",
    "        self.rank = rank\n",
    "        self.value = values[rank] \n",
    "        \n",
    "    def __str__(self):\n",
    "        return self.rank + \" of \" + self.suit"
   ]
  },
  {
   "cell_type": "code",
   "execution_count": 76,
   "id": "847af325",
   "metadata": {},
   "outputs": [],
   "source": [
    "#example\n",
    "two_hearts = Card(\"Hearts\",\"Two\")"
   ]
  },
  {
   "cell_type": "code",
   "execution_count": 77,
   "id": "ade7e122",
   "metadata": {},
   "outputs": [
    {
     "data": {
      "text/plain": [
       "<__main__.Card at 0x211cd0a2df0>"
      ]
     },
     "execution_count": 77,
     "metadata": {},
     "output_type": "execute_result"
    }
   ],
   "source": [
    "two_hearts"
   ]
  },
  {
   "cell_type": "code",
   "execution_count": 78,
   "id": "960722a8",
   "metadata": {},
   "outputs": [
    {
     "name": "stdout",
     "output_type": "stream",
     "text": [
      "Two of Hearts\n"
     ]
    }
   ],
   "source": [
    "print(two_hearts)"
   ]
  },
  {
   "cell_type": "code",
   "execution_count": 79,
   "id": "6f9713a4",
   "metadata": {},
   "outputs": [
    {
     "data": {
      "text/plain": [
       "2"
      ]
     },
     "execution_count": 79,
     "metadata": {},
     "output_type": "execute_result"
    }
   ],
   "source": [
    "two_hearts.value"
   ]
  },
  {
   "cell_type": "code",
   "execution_count": 80,
   "id": "067d7223",
   "metadata": {},
   "outputs": [
    {
     "data": {
      "text/plain": [
       "2"
      ]
     },
     "execution_count": 80,
     "metadata": {},
     "output_type": "execute_result"
    }
   ],
   "source": [
    "values[two_hearts.rank]"
   ]
  },
  {
   "cell_type": "code",
   "execution_count": 82,
   "id": "ce3e5550",
   "metadata": {},
   "outputs": [],
   "source": [
    "three_clubs = Card(\"Clubs\",\"Three\")"
   ]
  },
  {
   "cell_type": "code",
   "execution_count": 83,
   "id": "d669b83a",
   "metadata": {},
   "outputs": [
    {
     "name": "stdout",
     "output_type": "stream",
     "text": [
      "Three of Clubs\n"
     ]
    }
   ],
   "source": [
    "print(three_clubs)"
   ]
  },
  {
   "cell_type": "code",
   "execution_count": 84,
   "id": "8f475c6c",
   "metadata": {},
   "outputs": [
    {
     "data": {
      "text/plain": [
       "3"
      ]
     },
     "execution_count": 84,
     "metadata": {},
     "output_type": "execute_result"
    }
   ],
   "source": [
    "three_clubs.value"
   ]
  },
  {
   "cell_type": "code",
   "execution_count": 85,
   "id": "8a92df2d",
   "metadata": {},
   "outputs": [
    {
     "data": {
      "text/plain": [
       "'Clubs'"
      ]
     },
     "execution_count": 85,
     "metadata": {},
     "output_type": "execute_result"
    }
   ],
   "source": [
    "three_clubs.suit"
   ]
  },
  {
   "cell_type": "code",
   "execution_count": 86,
   "id": "3f8680ae",
   "metadata": {},
   "outputs": [
    {
     "data": {
      "text/plain": [
       "'Three'"
      ]
     },
     "execution_count": 86,
     "metadata": {},
     "output_type": "execute_result"
    }
   ],
   "source": [
    "three_clubs.rank"
   ]
  },
  {
   "cell_type": "code",
   "execution_count": 87,
   "id": "ba416130",
   "metadata": {},
   "outputs": [
    {
     "data": {
      "text/plain": [
       "True"
      ]
     },
     "execution_count": 87,
     "metadata": {},
     "output_type": "execute_result"
    }
   ],
   "source": [
    "#comparing the values of cards as we would want in our game\n",
    "two_hearts.value < three_clubs.value\n",
    "#also we cant compare these directly as the are not integer values"
   ]
  },
  {
   "cell_type": "code",
   "execution_count": 88,
   "id": "49989f17",
   "metadata": {},
   "outputs": [
    {
     "data": {
      "text/plain": [
       "False"
      ]
     },
     "execution_count": 88,
     "metadata": {},
     "output_type": "execute_result"
    }
   ],
   "source": [
    "two_hearts.value == three_clubs.value"
   ]
  },
  {
   "cell_type": "code",
   "execution_count": null,
   "id": "d6fe2caf",
   "metadata": {},
   "outputs": [],
   "source": []
  },
  {
   "cell_type": "code",
   "execution_count": 3,
   "id": "24cc515f",
   "metadata": {},
   "outputs": [],
   "source": [
    "#deck class\n",
    "class Deck():\n",
    "    \n",
    "    def __init__(self): #no user input as every new deckcould be same\n",
    "        \n",
    "        self.all_cards = []\n",
    "        \n",
    "        #creating all 52 unique cards\n",
    "        for suit in suits:\n",
    "            for rank in ranks:\n",
    "                #create a card object\n",
    "                created_card = Card(suit,rank)\n",
    "                \n",
    "                self.all_cards.append(created_card)\n",
    "                \n",
    "    #creating new method for shuffle\n",
    "    def shuffle(self):\n",
    "        random.shuffle(self.all_cards) #random.shuffle returns nothing so cant save it\n",
    "        \n",
    "    def deal_one(self):\n",
    "        return self.all_cards.pop() #can use pop as all_cards is a list"
   ]
  },
  {
   "cell_type": "code",
   "execution_count": 115,
   "id": "bb69e206",
   "metadata": {},
   "outputs": [],
   "source": [
    "new_deck = Deck()"
   ]
  },
  {
   "cell_type": "code",
   "execution_count": 116,
   "id": "4f3d64b7",
   "metadata": {},
   "outputs": [
    {
     "data": {
      "text/plain": [
       "[<__main__.Card at 0x211cd0090a0>,\n",
       " <__main__.Card at 0x211cd009d90>,\n",
       " <__main__.Card at 0x211cd009880>,\n",
       " <__main__.Card at 0x211cd009370>,\n",
       " <__main__.Card at 0x211cd009e80>,\n",
       " <__main__.Card at 0x211cd009dc0>,\n",
       " <__main__.Card at 0x211cd0097f0>,\n",
       " <__main__.Card at 0x211cd009670>,\n",
       " <__main__.Card at 0x211cd009100>,\n",
       " <__main__.Card at 0x211cd0099d0>,\n",
       " <__main__.Card at 0x211cd009ee0>,\n",
       " <__main__.Card at 0x211cd0095e0>,\n",
       " <__main__.Card at 0x211cd08eb20>,\n",
       " <__main__.Card at 0x211cd08eac0>,\n",
       " <__main__.Card at 0x211cd08e100>,\n",
       " <__main__.Card at 0x211cd08e640>,\n",
       " <__main__.Card at 0x211cd08e970>,\n",
       " <__main__.Card at 0x211cd08e460>,\n",
       " <__main__.Card at 0x211cd08ec70>,\n",
       " <__main__.Card at 0x211cd08e9d0>,\n",
       " <__main__.Card at 0x211cd08e220>,\n",
       " <__main__.Card at 0x211cd08ea90>,\n",
       " <__main__.Card at 0x211cd08efd0>,\n",
       " <__main__.Card at 0x211cd08e1c0>,\n",
       " <__main__.Card at 0x211cd08e370>,\n",
       " <__main__.Card at 0x211cd08e8e0>,\n",
       " <__main__.Card at 0x211cd08e400>,\n",
       " <__main__.Card at 0x211cd08ed60>,\n",
       " <__main__.Card at 0x211cd08e850>,\n",
       " <__main__.Card at 0x211cd08ed90>,\n",
       " <__main__.Card at 0x211cd08ed00>,\n",
       " <__main__.Card at 0x211cd08e250>,\n",
       " <__main__.Card at 0x211cd08e0a0>,\n",
       " <__main__.Card at 0x211cd08ec40>,\n",
       " <__main__.Card at 0x211cd2c1df0>,\n",
       " <__main__.Card at 0x211cd2c1ac0>,\n",
       " <__main__.Card at 0x211cd2c1f10>,\n",
       " <__main__.Card at 0x211cd2c1ee0>,\n",
       " <__main__.Card at 0x211cd2c1be0>,\n",
       " <__main__.Card at 0x211cd2c1190>,\n",
       " <__main__.Card at 0x211cd2c1700>,\n",
       " <__main__.Card at 0x211cd2c1130>,\n",
       " <__main__.Card at 0x211cd2c1c70>,\n",
       " <__main__.Card at 0x211cd2c1cd0>,\n",
       " <__main__.Card at 0x211cd2c18e0>,\n",
       " <__main__.Card at 0x211cd2c17c0>,\n",
       " <__main__.Card at 0x211cd2c1a00>,\n",
       " <__main__.Card at 0x211cd2c1940>,\n",
       " <__main__.Card at 0x211cd2c16d0>,\n",
       " <__main__.Card at 0x211cd2c13d0>,\n",
       " <__main__.Card at 0x211cd2c1340>,\n",
       " <__main__.Card at 0x211cd2c1f40>]"
      ]
     },
     "execution_count": 116,
     "metadata": {},
     "output_type": "execute_result"
    }
   ],
   "source": [
    "new_deck.all_cards"
   ]
  },
  {
   "cell_type": "code",
   "execution_count": 117,
   "id": "851d5fcd",
   "metadata": {},
   "outputs": [],
   "source": [
    "frist_card = new_deck.all_cards[0]"
   ]
  },
  {
   "cell_type": "code",
   "execution_count": 118,
   "id": "abd84d86",
   "metadata": {},
   "outputs": [
    {
     "name": "stdout",
     "output_type": "stream",
     "text": [
      "Two of Hearts\n"
     ]
    }
   ],
   "source": [
    "print(frist_card)"
   ]
  },
  {
   "cell_type": "code",
   "execution_count": 119,
   "id": "0e51d004",
   "metadata": {},
   "outputs": [],
   "source": [
    "last_card = new_deck.all_cards[-1]"
   ]
  },
  {
   "cell_type": "code",
   "execution_count": 120,
   "id": "a896882f",
   "metadata": {},
   "outputs": [
    {
     "name": "stdout",
     "output_type": "stream",
     "text": [
      "Ace of Diamonds\n"
     ]
    }
   ],
   "source": [
    "print(last_card)"
   ]
  },
  {
   "cell_type": "code",
   "execution_count": 121,
   "id": "5137e141",
   "metadata": {},
   "outputs": [
    {
     "name": "stdout",
     "output_type": "stream",
     "text": [
      "Two of Hearts\n",
      "Three of Hearts\n",
      "Four of Hearts\n",
      "Five of Hearts\n",
      "Six of Hearts\n",
      "Seven of Hearts\n",
      "Eight of Hearts\n",
      "Nine of Hearts\n",
      "Ten of Hearts\n",
      "Jack of Hearts\n",
      "Queen of Hearts\n",
      "King of Hearts\n",
      "Ace of Hearts\n",
      "Two of Clubs\n",
      "Three of Clubs\n",
      "Four of Clubs\n",
      "Five of Clubs\n",
      "Six of Clubs\n",
      "Seven of Clubs\n",
      "Eight of Clubs\n",
      "Nine of Clubs\n",
      "Ten of Clubs\n",
      "Jack of Clubs\n",
      "Queen of Clubs\n",
      "King of Clubs\n",
      "Ace of Clubs\n",
      "Two of Spades\n",
      "Three of Spades\n",
      "Four of Spades\n",
      "Five of Spades\n",
      "Six of Spades\n",
      "Seven of Spades\n",
      "Eight of Spades\n",
      "Nine of Spades\n",
      "Ten of Spades\n",
      "Jack of Spades\n",
      "Queen of Spades\n",
      "King of Spades\n",
      "Ace of Spades\n",
      "Two of Diamonds\n",
      "Three of Diamonds\n",
      "Four of Diamonds\n",
      "Five of Diamonds\n",
      "Six of Diamonds\n",
      "Seven of Diamonds\n",
      "Eight of Diamonds\n",
      "Nine of Diamonds\n",
      "Ten of Diamonds\n",
      "Jack of Diamonds\n",
      "Queen of Diamonds\n",
      "King of Diamonds\n",
      "Ace of Diamonds\n"
     ]
    }
   ],
   "source": [
    "for card_object in new_deck.all_cards:\n",
    "    print(card_object)"
   ]
  },
  {
   "cell_type": "code",
   "execution_count": 122,
   "id": "9de7b808",
   "metadata": {},
   "outputs": [],
   "source": [
    "new_deck.shuffle()"
   ]
  },
  {
   "cell_type": "code",
   "execution_count": 123,
   "id": "01df6b6b",
   "metadata": {},
   "outputs": [
    {
     "name": "stdout",
     "output_type": "stream",
     "text": [
      "Four of Hearts\n"
     ]
    }
   ],
   "source": [
    "print(new_deck.all_cards[-1])"
   ]
  },
  {
   "cell_type": "code",
   "execution_count": 124,
   "id": "229b076c",
   "metadata": {},
   "outputs": [],
   "source": [
    "new_decks = Deck()"
   ]
  },
  {
   "cell_type": "code",
   "execution_count": 125,
   "id": "7926409f",
   "metadata": {},
   "outputs": [],
   "source": [
    "new_decks.shuffle()"
   ]
  },
  {
   "cell_type": "code",
   "execution_count": 126,
   "id": "9e0047d5",
   "metadata": {},
   "outputs": [],
   "source": [
    "mycard = new_decks.deal_one()"
   ]
  },
  {
   "cell_type": "code",
   "execution_count": 127,
   "id": "ec946db5",
   "metadata": {},
   "outputs": [
    {
     "name": "stdout",
     "output_type": "stream",
     "text": [
      "Jack of Hearts\n"
     ]
    }
   ],
   "source": [
    "print(mycard)"
   ]
  },
  {
   "cell_type": "code",
   "execution_count": 128,
   "id": "875aa096",
   "metadata": {},
   "outputs": [
    {
     "data": {
      "text/plain": [
       "51"
      ]
     },
     "execution_count": 128,
     "metadata": {},
     "output_type": "execute_result"
    }
   ],
   "source": [
    "len(new_decks.all_cards)"
   ]
  },
  {
   "cell_type": "code",
   "execution_count": null,
   "id": "16ea7557",
   "metadata": {},
   "outputs": [],
   "source": []
  },
  {
   "cell_type": "code",
   "execution_count": 4,
   "id": "b16a2b25",
   "metadata": {},
   "outputs": [],
   "source": [
    "#creating player class\n",
    "class Player():\n",
    "    \n",
    "    def __init__(self,name):\n",
    "        \n",
    "        self.name = name\n",
    "        self.all_cards = []\n",
    "        \n",
    "    def remove_one(self):\n",
    "        return self.all_cards.pop(0)\n",
    "    \n",
    "    def add_cards(self,new_cards):\n",
    "        \n",
    "        if type(new_cards) == type([]):\n",
    "            self.all_cards.extend(new_cards) #for multiple card objects to avoid creating a nested list\n",
    "            \n",
    "        else:\n",
    "            self.all_cards.append(new_cards) #for single card object\n",
    "    \n",
    "    def __str__(self):\n",
    "        return f' Player {self.name} has {len(self.all_cards)} cards. '"
   ]
  },
  {
   "cell_type": "code",
   "execution_count": 155,
   "id": "52280d3e",
   "metadata": {},
   "outputs": [],
   "source": [
    "new_player = Player(\"Akshay\")"
   ]
  },
  {
   "cell_type": "code",
   "execution_count": 156,
   "id": "5539becf",
   "metadata": {},
   "outputs": [
    {
     "name": "stdout",
     "output_type": "stream",
     "text": [
      " Player Akshay has 0 cards. \n"
     ]
    }
   ],
   "source": [
    "print(new_player)"
   ]
  },
  {
   "cell_type": "code",
   "execution_count": 171,
   "id": "119e30fe",
   "metadata": {},
   "outputs": [],
   "source": [
    "new_player = Player(\"Hrithik\")"
   ]
  },
  {
   "cell_type": "code",
   "execution_count": 172,
   "id": "c04c2df9",
   "metadata": {},
   "outputs": [
    {
     "name": "stdout",
     "output_type": "stream",
     "text": [
      " Player Hrithik has 0 cards. \n"
     ]
    }
   ],
   "source": [
    "print(new_player)"
   ]
  },
  {
   "cell_type": "code",
   "execution_count": 173,
   "id": "ee4f0898",
   "metadata": {},
   "outputs": [],
   "source": [
    "#lets give the player a card"
   ]
  },
  {
   "cell_type": "code",
   "execution_count": 174,
   "id": "6abedc31",
   "metadata": {},
   "outputs": [
    {
     "data": {
      "text/plain": [
       "<__main__.Card at 0x211cd013460>"
      ]
     },
     "execution_count": 174,
     "metadata": {},
     "output_type": "execute_result"
    }
   ],
   "source": [
    "mycard"
   ]
  },
  {
   "cell_type": "code",
   "execution_count": 175,
   "id": "d81129af",
   "metadata": {},
   "outputs": [],
   "source": [
    "new_player.add_cards(mycard) #mycard assigned above "
   ]
  },
  {
   "cell_type": "code",
   "execution_count": 176,
   "id": "7f61da4a",
   "metadata": {},
   "outputs": [
    {
     "name": "stdout",
     "output_type": "stream",
     "text": [
      " Player Hrithik has 1 cards. \n"
     ]
    }
   ],
   "source": [
    "print(new_player)"
   ]
  },
  {
   "cell_type": "code",
   "execution_count": 177,
   "id": "d7568fa9",
   "metadata": {},
   "outputs": [
    {
     "name": "stdout",
     "output_type": "stream",
     "text": [
      "Jack of Hearts\n"
     ]
    }
   ],
   "source": [
    "print(new_player.all_cards[0])"
   ]
  },
  {
   "cell_type": "code",
   "execution_count": 178,
   "id": "558e8cbf",
   "metadata": {},
   "outputs": [],
   "source": [
    "new_player.add_cards([mycard,mycard,mycard])"
   ]
  },
  {
   "cell_type": "code",
   "execution_count": 179,
   "id": "734eb32e",
   "metadata": {},
   "outputs": [
    {
     "name": "stdout",
     "output_type": "stream",
     "text": [
      " Player Hrithik has 4 cards. \n"
     ]
    }
   ],
   "source": [
    "print(new_player)"
   ]
  },
  {
   "cell_type": "code",
   "execution_count": 180,
   "id": "9e57ed0a",
   "metadata": {},
   "outputs": [
    {
     "data": {
      "text/plain": [
       "<__main__.Card at 0x211cd013460>"
      ]
     },
     "execution_count": 180,
     "metadata": {},
     "output_type": "execute_result"
    }
   ],
   "source": [
    "new_player.remove_one()"
   ]
  },
  {
   "cell_type": "code",
   "execution_count": 181,
   "id": "2afc52b0",
   "metadata": {},
   "outputs": [
    {
     "name": "stdout",
     "output_type": "stream",
     "text": [
      " Player Hrithik has 3 cards. \n"
     ]
    }
   ],
   "source": [
    "print(new_player)"
   ]
  },
  {
   "cell_type": "code",
   "execution_count": null,
   "id": "4b8b34e9",
   "metadata": {},
   "outputs": [],
   "source": []
  },
  {
   "cell_type": "code",
   "execution_count": 5,
   "id": "39c64c40",
   "metadata": {},
   "outputs": [],
   "source": [
    "#game setup"
   ]
  },
  {
   "cell_type": "code",
   "execution_count": 6,
   "id": "1c5e074c",
   "metadata": {},
   "outputs": [],
   "source": [
    "player_one = Player(\"One\")\n",
    "player_two = Player(\"Two\")\n",
    "\n",
    "new_deck = Deck()\n",
    "new_deck.shuffle()\n",
    "\n",
    "for x in range(26):\n",
    "    player_one.add_cards(new_deck.deal_one())\n",
    "    player_two.add_cards(new_deck.deal_one())"
   ]
  },
  {
   "cell_type": "code",
   "execution_count": 7,
   "id": "21512160",
   "metadata": {},
   "outputs": [
    {
     "data": {
      "text/plain": [
       "26"
      ]
     },
     "execution_count": 7,
     "metadata": {},
     "output_type": "execute_result"
    }
   ],
   "source": [
    "len(player_one.all_cards)"
   ]
  },
  {
   "cell_type": "code",
   "execution_count": 8,
   "id": "8065e29c",
   "metadata": {},
   "outputs": [],
   "source": [
    "game_on = True"
   ]
  },
  {
   "cell_type": "code",
   "execution_count": 9,
   "id": "d6812840",
   "metadata": {},
   "outputs": [
    {
     "name": "stdout",
     "output_type": "stream",
     "text": [
      " Round 1 \n",
      " Round 2 \n",
      " Round 3 \n",
      " Round 4 \n",
      " Round 5 \n",
      " Round 6 \n",
      " Round 7 \n",
      " Round 8 \n",
      " Round 9 \n",
      " Round 10 \n",
      "WAR IS ON!!\n",
      " Round 11 \n",
      " Round 12 \n",
      " Round 13 \n",
      " Round 14 \n",
      " Round 15 \n",
      " Round 16 \n",
      " Round 17 \n",
      " Round 18 \n",
      " Round 19 \n",
      " Round 20 \n",
      " Round 21 \n",
      " Round 22 \n",
      " Round 23 \n",
      " Round 24 \n",
      " Round 25 \n",
      " Round 26 \n",
      " Round 27 \n",
      " Round 28 \n",
      " Round 29 \n",
      " Round 30 \n",
      " Round 31 \n",
      " Round 32 \n",
      " Round 33 \n",
      " Round 34 \n",
      " Round 35 \n",
      " Round 36 \n",
      " Round 37 \n",
      " Round 38 \n",
      " Round 39 \n",
      " Round 40 \n",
      " Round 41 \n",
      " Round 42 \n",
      " Round 43 \n",
      " Round 44 \n",
      " Round 45 \n",
      " Round 46 \n",
      " Round 47 \n",
      " Round 48 \n",
      " Round 49 \n",
      " Round 50 \n",
      " Round 51 \n",
      " Round 52 \n",
      " Round 53 \n",
      " Round 54 \n",
      " Round 55 \n",
      "WAR IS ON!!\n",
      " Round 56 \n",
      " Round 57 \n",
      "WAR IS ON!!\n",
      " Round 58 \n",
      " Round 59 \n",
      " Round 60 \n",
      " Round 61 \n",
      " Round 62 \n",
      " Round 63 \n",
      " Round 64 \n",
      " Round 65 \n",
      "WAR IS ON!!\n",
      "WAR IS ON!!\n",
      " Round 66 \n",
      " Round 67 \n",
      " Round 68 \n",
      " Round 69 \n",
      "WAR IS ON!!\n",
      " Round 70 \n",
      " Round 71 \n",
      " Round 72 \n",
      " Round 73 \n",
      " Round 74 \n",
      " Round 75 \n",
      " Round 76 \n",
      " Round 77 \n",
      " Round 78 \n",
      " Round 79 \n",
      " Round 80 \n",
      "WAR IS ON!!\n",
      " Round 81 \n",
      " Round 82 \n",
      " Round 83 \n",
      " Round 84 \n",
      " Round 85 \n",
      " Round 86 \n",
      " Round 87 \n",
      " Round 88 \n",
      " Round 89 \n",
      " Round 90 \n",
      " Round 91 \n",
      " Round 92 \n",
      " Round 93 \n",
      " Round 94 \n",
      " Round 95 \n",
      " Round 96 \n",
      " Round 97 \n",
      " Round 98 \n",
      " Round 99 \n",
      " Round 100 \n",
      " Round 101 \n",
      " Round 102 \n",
      " Round 103 \n",
      " Round 104 \n",
      " Round 105 \n",
      " Round 106 \n",
      " Round 107 \n",
      " Round 108 \n",
      " Round 109 \n",
      " Round 110 \n",
      "WAR IS ON!!\n",
      " Round 111 \n",
      " Round 112 \n",
      " Round 113 \n",
      " Round 114 \n",
      " Round 115 \n",
      "WAR IS ON!!\n",
      " Round 116 \n",
      " Round 117 \n",
      " Round 118 \n",
      "WAR IS ON!!\n",
      " Round 119 \n",
      "WAR IS ON!!\n",
      " Round 120 \n",
      " Round 121 \n",
      " Round 122 \n",
      " Round 123 \n",
      " Round 124 \n",
      "WAR IS ON!!\n",
      " Round 125 \n",
      " Round 126 \n",
      " Round 127 \n",
      " Round 128 \n",
      " Round 129 \n",
      " Round 130 \n",
      " Round 131 \n",
      " Round 132 \n",
      " Round 133 \n",
      " Round 134 \n",
      " Round 135 \n",
      " Round 136 \n",
      " Round 137 \n",
      "WAR IS ON!!\n",
      " Round 138 \n",
      " Round 139 \n",
      " Round 140 \n",
      " Round 141 \n",
      " Round 142 \n",
      " Round 143 \n",
      " Round 144 \n",
      " Round 145 \n",
      " Round 146 \n",
      " Round 147 \n",
      " Round 148 \n",
      " Round 149 \n",
      " Round 150 \n",
      " Round 151 \n",
      " Round 152 \n",
      " Round 153 \n",
      " Round 154 \n",
      " Round 155 \n",
      " Round 156 \n",
      " Round 157 \n",
      " Round 158 \n",
      " Round 159 \n",
      " Round 160 \n",
      " Round 161 \n",
      " Round 162 \n",
      " Round 163 \n",
      "WAR IS ON!!\n",
      " Round 164 \n",
      " Round 165 \n",
      " Round 166 \n",
      " Round 167 \n",
      " Round 168 \n",
      "WAR IS ON!!\n",
      " Round 169 \n",
      " Round 170 \n",
      " Round 171 \n",
      " Round 172 \n",
      " Round 173 \n",
      " Round 174 \n",
      " Round 175 \n",
      " Round 176 \n",
      " Round 177 \n",
      " Round 178 \n",
      " Round 179 \n",
      " Round 180 \n",
      " Round 181 \n",
      " Round 182 \n",
      " Round 183 \n",
      " Round 184 \n",
      " Round 185 \n",
      " Round 186 \n",
      " Round 187 \n",
      " Round 188 \n",
      " Round 189 \n",
      " Round 190 \n",
      " Round 191 \n",
      " Round 192 \n",
      " Round 193 \n",
      " Round 194 \n",
      " Round 195 \n",
      " Round 196 \n",
      " Round 197 \n",
      " Round 198 \n",
      " Round 199 \n",
      " Round 200 \n",
      " Round 201 \n",
      " Round 202 \n",
      " Round 203 \n",
      " Round 204 \n",
      " Round 205 \n",
      " Round 206 \n",
      " Round 207 \n",
      " Round 208 \n",
      " Round 209 \n",
      " Round 210 \n",
      " Round 211 \n",
      " Round 212 \n",
      " Round 213 \n",
      " Round 214 \n",
      " Round 215 \n",
      " Round 216 \n",
      " Round 217 \n",
      " Round 218 \n",
      " Round 219 \n",
      "WAR IS ON!!\n",
      " Round 220 \n",
      " Round 221 \n",
      " Round 222 \n",
      " Round 223 \n",
      " Round 224 \n",
      " Round 225 \n",
      " Round 226 \n",
      " Round 227 \n",
      " Round 228 \n",
      " Round 229 \n",
      " Round 230 \n",
      " Round 231 \n",
      " Round 232 \n",
      " Round 233 \n",
      " Round 234 \n",
      " Round 235 \n",
      " Round 236 \n",
      " Round 237 \n",
      " Round 238 \n",
      " Round 239 \n",
      " Round 240 \n",
      " Round 241 \n",
      " Round 242 \n",
      " Round 243 \n",
      " Round 244 \n",
      " Round 245 \n",
      " Round 246 \n",
      " Round 247 \n",
      " Round 248 \n",
      " Round 249 \n",
      " Round 250 \n",
      " Round 251 \n",
      " Round 252 \n",
      " Round 253 \n",
      " Round 254 \n",
      "WAR IS ON!!\n",
      "WAR IS ON!!\n",
      " Round 255 \n",
      " Round 256 \n",
      " Round 257 \n",
      " Round 258 \n",
      " Round 259 \n",
      " Round 260 \n",
      " Round 261 \n",
      " Round 262 \n",
      " Round 263 \n",
      " Round 264 \n",
      " Round 265 \n",
      "WAR IS ON!!\n",
      " Round 266 \n",
      " Round 267 \n",
      "WAR IS ON!!\n",
      " Round 268 \n",
      "WAR IS ON!!\n",
      " Round 269 \n",
      " Round 270 \n",
      " Round 271 \n",
      " Round 272 \n",
      " Round 273 \n",
      " Round 274 \n",
      " Round 275 \n",
      " Round 276 \n",
      " Round 277 \n",
      " Round 278 \n",
      " Round 279 \n",
      " Round 280 \n",
      " Round 281 \n",
      " Round 282 \n",
      " Round 283 \n",
      " Round 284 \n",
      " Round 285 \n",
      " Round 286 \n",
      " Round 287 \n",
      " Round 288 \n",
      " Round 289 \n",
      " Round 290 \n",
      " Round 291 \n",
      " Round 292 \n",
      " Round 293 \n",
      " Round 294 \n",
      " Round 295 \n",
      " Round 296 \n",
      " Round 297 \n",
      " Round 298 \n",
      " Round 299 \n",
      " Round 300 \n",
      " Round 301 \n",
      " Round 302 \n",
      " Round 303 \n",
      " Round 304 \n",
      " Round 305 \n",
      " Round 306 \n",
      " Round 307 \n",
      " Round 308 \n",
      " Round 309 \n",
      " Round 310 \n",
      " Round 311 \n",
      " Round 312 \n",
      " Round 313 \n",
      " Round 314 \n",
      " Round 315 \n",
      "WAR IS ON!!\n",
      " Round 316 \n",
      " Round 317 \n",
      " Round 318 \n",
      " Round 319 \n",
      " Round 320 \n",
      " Round 321 \n",
      " Round 322 \n",
      " Round 323 \n",
      " Round 324 \n",
      " Round 325 \n",
      " Round 326 \n",
      " Round 327 \n",
      " Round 328 \n",
      " Round 329 \n",
      " Round 330 \n",
      " Round 331 \n",
      " Round 332 \n",
      " Round 333 \n",
      " Round 334 \n",
      " Round 335 \n",
      " Round 336 \n",
      "WAR IS ON!!\n",
      " Round 337 \n",
      " Round 338 \n",
      " Round 339 \n",
      " Round 340 \n",
      " Round 341 \n",
      " Round 342 \n",
      " Round 343 \n",
      " Round 344 \n",
      " Round 345 \n",
      " Round 346 \n",
      " Round 347 \n",
      " Round 348 \n",
      "WAR IS ON!!\n",
      " Round 349 \n",
      " Round 350 \n",
      " Round 351 \n",
      " Round 352 \n",
      " Round 353 \n",
      " Round 354 \n",
      " Round 355 \n",
      " Round 356 \n",
      " Round 357 \n",
      " Round 358 \n",
      " Round 359 \n",
      " Round 360 \n",
      " Round 361 \n",
      " Round 362 \n",
      " Round 363 \n",
      " Round 364 \n",
      " Round 365 \n",
      " Round 366 \n",
      " Round 367 \n",
      " Round 368 \n",
      " Round 369 \n",
      " Round 370 \n",
      " Round 371 \n",
      "WAR IS ON!!\n",
      " Round 372 \n",
      " Round 373 \n",
      " Round 374 \n",
      " Round 375 \n",
      " Round 376 \n",
      " Round 377 \n",
      " Round 378 \n",
      " Round 379 \n",
      " Round 380 \n",
      " Round 381 \n",
      " Round 382 \n",
      " Round 383 \n",
      " Round 384 \n",
      " Round 385 \n",
      " Round 386 \n",
      " Round 387 \n",
      " Round 388 \n",
      " Round 389 \n",
      " Round 390 \n",
      " Round 391 \n",
      " Round 392 \n",
      " Round 393 \n",
      " Round 394 \n",
      " Round 395 \n",
      " Round 396 \n",
      "WAR IS ON!!\n",
      " Round 397 \n",
      " Round 398 \n",
      " Round 399 \n",
      " Round 400 \n",
      " Round 401 \n",
      " Round 402 \n",
      " Round 403 \n",
      " Round 404 \n",
      "WAR IS ON!!\n",
      " Round 405 \n",
      " Round 406 \n",
      " Round 407 \n",
      " Round 408 \n",
      " Round 409 \n",
      " Round 410 \n",
      " Round 411 \n",
      " Round 412 \n",
      " Round 413 \n",
      " Round 414 \n",
      " Round 415 \n",
      " Round 416 \n",
      " Round 417 \n",
      " Round 418 \n",
      " Round 419 \n",
      " Round 420 \n",
      " Round 421 \n",
      " Round 422 \n",
      " Round 423 \n",
      " Round 424 \n",
      " Round 425 \n",
      " Round 426 \n",
      "WAR IS ON!!\n",
      " Round 427 \n",
      " Round 428 \n",
      " Round 429 \n",
      " Round 430 \n",
      " Round 431 \n",
      " Round 432 \n",
      "WAR IS ON!!\n",
      " Round 433 \n",
      " Round 434 \n",
      " Round 435 \n",
      " Round 436 \n",
      " Round 437 \n",
      " Round 438 \n",
      "WAR IS ON!!\n",
      " Round 439 \n",
      " Round 440 \n",
      " Round 441 \n",
      " Round 442 \n",
      " Round 443 \n",
      " Round 444 \n",
      " Round 445 \n",
      " Round 446 \n",
      " Round 447 \n",
      " Round 448 \n",
      " Round 449 \n",
      " Round 450 \n",
      " Round 451 \n",
      " Round 452 \n",
      "WAR IS ON!!\n",
      "Player Two unable to Fight\n",
      "Player One Win!!\n"
     ]
    }
   ],
   "source": [
    "round_num = 0\n",
    "\n",
    "while game_on:\n",
    "    \n",
    "    round_num += 1\n",
    "    print( f\" Round {round_num} \")\n",
    "    \n",
    "    if len(player_one.all_cards) == 0:\n",
    "        print('Player One, Out of Cards!')\n",
    "        print('Player Two Wins')\n",
    "        game_on = False\n",
    "        break\n",
    "        \n",
    "    if len(player_two.all_cards) == 0:\n",
    "        print('Player Two, Out of Cards!')\n",
    "        print('Player One Wins')\n",
    "        game_on = False\n",
    "        break\n",
    "    \n",
    "    #start a new round we remove a card from all cards and append it to cards currently in play\n",
    "    player_one_cards = []  #these cards are in play cards diff from all_cards\n",
    "    player_one_cards.append(player_one.remove_one())\n",
    "    \n",
    "    player_two_cards = []\n",
    "    player_two_cards.append(player_two.remove_one())    \n",
    "        \n",
    "        \n",
    "    at_war = True\n",
    "    \n",
    "    while at_war:\n",
    "        \n",
    "        if player_one_cards[-1].value > player_two_cards[-1].value:\n",
    "            \n",
    "            player_one.add_cards(player_one_cards)\n",
    "            player_one.add_cards(player_two_cards)\n",
    "            \n",
    "            at_war = False\n",
    "            \n",
    "        elif player_one_cards[-1].value < player_two_cards[-1].value:\n",
    "            \n",
    "            player_two.add_cards(player_two_cards)\n",
    "            player_two.add_cards(player_one_cards)\n",
    "            \n",
    "            at_war = False\n",
    "        \n",
    "        else:\n",
    "            print(\"WAR IS ON!!\")\n",
    "            \n",
    "            if len(player_one.all_cards) < 3:\n",
    "                print(\"Player One unable to Fight\")\n",
    "                print(\"Player Two Win!!\")\n",
    "                game_on = False\n",
    "                break\n",
    "                \n",
    "            elif len(player_two.all_cards) < 3:\n",
    "                print(\"Player Two unable to Fight\")\n",
    "                print(\"Player One Win!!\")\n",
    "                game_on = False\n",
    "                break\n",
    "            \n",
    "            else:\n",
    "                for num in range(3):\n",
    "                    player_one_cards.append(player_one.remove_one())\n",
    "                    player_two_cards.append(player_two.remove_one())        "
   ]
  },
  {
   "cell_type": "code",
   "execution_count": null,
   "id": "8aab6a68",
   "metadata": {},
   "outputs": [],
   "source": []
  }
 ],
 "metadata": {
  "kernelspec": {
   "display_name": "Python 3 (ipykernel)",
   "language": "python",
   "name": "python3"
  },
  "language_info": {
   "codemirror_mode": {
    "name": "ipython",
    "version": 3
   },
   "file_extension": ".py",
   "mimetype": "text/x-python",
   "name": "python",
   "nbconvert_exporter": "python",
   "pygments_lexer": "ipython3",
   "version": "3.9.12"
  }
 },
 "nbformat": 4,
 "nbformat_minor": 5
}
